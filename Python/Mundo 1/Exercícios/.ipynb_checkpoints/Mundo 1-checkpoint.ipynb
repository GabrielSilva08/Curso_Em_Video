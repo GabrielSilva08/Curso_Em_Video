{
 "cells": [
  {
   "cell_type": "markdown",
   "id": "b6bd2645",
   "metadata": {},
   "source": [
    "# Exercício \\#001 - Deixando tudo pronto"
   ]
  },
  {
   "cell_type": "markdown",
   "id": "8089eae0",
   "metadata": {},
   "source": [
    "Crie um programa que escreva \"Olá, mundo!\" na tela."
   ]
  },
  {
   "cell_type": "code",
   "execution_count": 1,
   "id": "1ca6913d",
   "metadata": {},
   "outputs": [
    {
     "name": "stdout",
     "output_type": "stream",
     "text": [
      "Olá, mundo!\n"
     ]
    }
   ],
   "source": [
    "print(\"Olá, mundo!\") # 'print' é o comando utilizado em python para imprimir algo na tela"
   ]
  },
  {
   "cell_type": "markdown",
   "id": "5836c3f7",
   "metadata": {},
   "source": [
    "# Exercício \\#002 - Respondendo ao Usuário"
   ]
  },
  {
   "cell_type": "markdown",
   "id": "40f87678",
   "metadata": {},
   "source": [
    "Faça um programa que leia o nome de uma pessoa e mostre uma mensagem de boas-vindas."
   ]
  },
  {
   "cell_type": "code",
   "execution_count": 2,
   "id": "46118367",
   "metadata": {},
   "outputs": [
    {
     "name": "stdout",
     "output_type": "stream",
     "text": [
      "Digite seu nome: Gabriel\n",
      "Olá Gabriel! Seja bem vindo!\n"
     ]
    }
   ],
   "source": [
    "nome = input(\"Digite seu nome: \") #\"input\" é o comando utilizado em python para ler algo proveniente pelo usuário. A leitura, por padrão, retorna uma string.\n",
    "print(\"Olá {}! Seja bem vindo!\".format(nome))"
   ]
  },
  {
   "cell_type": "markdown",
   "id": "3f868520",
   "metadata": {},
   "source": [
    "# Exercício \\#003 - Somando dois números"
   ]
  },
  {
   "cell_type": "markdown",
   "id": "f79c959f",
   "metadata": {},
   "source": [
    "Crie um programa que leia dois números e mostre a soma entre eles."
   ]
  },
  {
   "cell_type": "code",
   "execution_count": 3,
   "id": "b6920c31",
   "metadata": {},
   "outputs": [
    {
     "name": "stdout",
     "output_type": "stream",
     "text": [
      "Digite o primeiro número: 7\n",
      "Digite o segundo número: 8\n",
      "7 + 8 = 15\n"
     ]
    }
   ],
   "source": [
    "a = int(input(\"Digite o primeiro número: \")) #int() é usado para casting\n",
    "b = int(input(\"Digite o segundo número: \"))\n",
    "print(\"{} + {} = {}\".format(a, b, a+b))"
   ]
  },
  {
   "cell_type": "markdown",
   "id": "16ca7292",
   "metadata": {},
   "source": [
    "# Exercício \\#004 - Dissecando uma Variável"
   ]
  },
  {
   "cell_type": "markdown",
   "id": "87696b2b",
   "metadata": {},
   "source": [
    "Faça um programa que leia algo pelo teclado e mostre na tela o seu tipo primitivo e todas as informações possíveis sobre ele."
   ]
  },
  {
   "cell_type": "raw",
   "id": "3311efd7",
   "metadata": {},
   "source": [
    "Pergunta ambígua, a solução apresentada pelo professor Gustavo é essa:"
   ]
  },
  {
   "cell_type": "code",
   "execution_count": 13,
   "id": "4be92578",
   "metadata": {},
   "outputs": [
    {
     "name": "stdout",
     "output_type": "stream",
     "text": [
      "Digite algo: Teste\n",
      "O tipo primitivo desse valor é <class 'str'>\n",
      "Só tem espaços? False\n",
      "É um número? False\n",
      "É alfabético? True\n",
      "É alfanumérico? True\n",
      "Está em maiúsculas? False\n",
      "Está em minúsculas? False\n",
      "Está capitalizado? True\n"
     ]
    }
   ],
   "source": [
    "a = input('Digite algo: ')\n",
    "print('O tipo primitivo desse valor é {}'.format(type(a)))\n",
    "print('Só tem espaços? {}'.format(a.isspace()))\n",
    "print('É um número? {}'.format(a.isnumeric()))\n",
    "print('É alfabético? {}'.format(a.isalpha()))\n",
    "print('É alfanumérico? {}'.format(a.isalnum()))\n",
    "print('Está em maiúsculas? {}'.format(a.isupper()))\n",
    "print('Está em minúsculas? {}'.format(a.islower()))\n",
    "print('Está capitalizado? {}'.format(a.istitle()))"
   ]
  },
  {
   "cell_type": "markdown",
   "id": "87ccfbac",
   "metadata": {},
   "source": [
    "# Exercício \\#005 - Antecessor e Sucessor"
   ]
  },
  {
   "cell_type": "markdown",
   "id": "005f623a",
   "metadata": {},
   "source": [
    "Faça um programa que leia um número Inteiro e mostre na tela o seu sucessor e seu antecessor."
   ]
  },
  {
   "cell_type": "code",
   "execution_count": 14,
   "id": "21667252",
   "metadata": {},
   "outputs": [
    {
     "name": "stdout",
     "output_type": "stream",
     "text": [
      "Digite um número: 10\n",
      "10 - 1 = 9\n",
      "10 + 1 = 11\n"
     ]
    }
   ],
   "source": [
    "n = int(input(\"Digite um número: \"))\n",
    "print(\"{} - 1 = {}\\n{} + 1 = {}\".format(n, n-1, n, n+1))"
   ]
  },
  {
   "cell_type": "markdown",
   "id": "07429e40",
   "metadata": {},
   "source": [
    "# Exercício \\#006 - Dobro, Triplo, Raiz Quadrada"
   ]
  },
  {
   "cell_type": "markdown",
   "id": "104cc1f2",
   "metadata": {},
   "source": [
    "Crie um algoritmo que leia um número e mostre o seu dobro, triplo e raiz quadrada."
   ]
  },
  {
   "cell_type": "code",
   "execution_count": 8,
   "id": "1f2228d3",
   "metadata": {},
   "outputs": [
    {
     "name": "stdout",
     "output_type": "stream",
     "text": [
      "Digite um número: 9\n",
      "Seu dobro é 18\n",
      "O triplo é 27\n",
      "A raiz quadrada é 3.0\n"
     ]
    }
   ],
   "source": [
    "x = int(input(\"Digite um número: \"))\n",
    "print(\"Seu dobro é {}\\nO triplo é {}\\nA raiz quadrada é {}\".format(2*x, 3*x, x**0.5))"
   ]
  },
  {
   "cell_type": "markdown",
   "id": "cbe7a169",
   "metadata": {},
   "source": [
    "# Exercício \\#007 - Média Aritmética"
   ]
  },
  {
   "cell_type": "markdown",
   "id": "c0d45856",
   "metadata": {},
   "source": [
    "Desenvolva um programa que leia as duas notas de um aluno, calcule e mostre a sua média."
   ]
  },
  {
   "cell_type": "code",
   "execution_count": 9,
   "id": "dc5f2a2f",
   "metadata": {},
   "outputs": [
    {
     "name": "stdout",
     "output_type": "stream",
     "text": [
      "Digite a primeira nota: 10\n",
      "Digite a segunda nota: 8.5\n",
      "A média do aluno é 9.25\n"
     ]
    }
   ],
   "source": [
    "n1 = float(input(\"Digite a primeira nota: \"))\n",
    "n2= float(input(\"Digite a segunda nota: \"))\n",
    "m = (n1+n2)/2\n",
    "print(\"A média do aluno é {}\".format(m))"
   ]
  },
  {
   "cell_type": "markdown",
   "id": "7345fa4b",
   "metadata": {},
   "source": [
    "# Exercício \\#008 - Conversor de Medidas"
   ]
  },
  {
   "cell_type": "markdown",
   "id": "b2789768",
   "metadata": {},
   "source": [
    "Escreva um programa que leia um valor em metros e o exiba convertido em centímetros e milímetros"
   ]
  },
  {
   "cell_type": "markdown",
   "id": "b3e020ca",
   "metadata": {},
   "source": [
    "# Exercício \\#009 - Tabuada"
   ]
  },
  {
   "cell_type": "markdown",
   "id": "01c34cd8",
   "metadata": {},
   "source": [
    "Faça um programa que leia um número Inteiro qualquer e mostre na tela a sua tabuada."
   ]
  },
  {
   "cell_type": "markdown",
   "id": "4f27c7ac",
   "metadata": {},
   "source": [
    "# Exercício \\#010 - Conversor de Moedas"
   ]
  },
  {
   "cell_type": "markdown",
   "id": "22f138c7",
   "metadata": {},
   "source": [
    "Crie um programa que leia quanto dinheiro uma pessoa tem na carteira e mostre quantos dólares ela pode comprar."
   ]
  },
  {
   "cell_type": "markdown",
   "id": "dbbd911f",
   "metadata": {},
   "source": [
    "# Exercício \\#011 - Pintando Parede"
   ]
  },
  {
   "cell_type": "markdown",
   "id": "2cb82aa6",
   "metadata": {},
   "source": [
    "Faça um programa que leia a largura e a altura de uma parede em metros, calcule a sua área e a quantidade de tinta necessária para pintá-la, sabendo que cada litro de tinta pinta uma área de 2 metros quadrados."
   ]
  },
  {
   "cell_type": "markdown",
   "id": "3d99abb4",
   "metadata": {},
   "source": [
    "# Exercício \\#012 - Calculando Descontos"
   ]
  },
  {
   "cell_type": "markdown",
   "id": "d0d017a7",
   "metadata": {},
   "source": [
    "Faça um algoritmo que leia o preço de um produto e mostre seu novo preço, com 5% de desconto."
   ]
  },
  {
   "cell_type": "markdown",
   "id": "ec7a802a",
   "metadata": {},
   "source": [
    "# Exercício \\#013 - Reajuste Salarial"
   ]
  },
  {
   "cell_type": "markdown",
   "id": "abc27c58",
   "metadata": {},
   "source": [
    "Faça um algoritmo que leia o salário de um funcionário e mostre seu novo salário, com 15% de aumento."
   ]
  },
  {
   "cell_type": "markdown",
   "id": "5fc92c66",
   "metadata": {},
   "source": [
    "# Exercício \\#014 - Conversor de Temperaturas"
   ]
  },
  {
   "cell_type": "markdown",
   "id": "f3d94636",
   "metadata": {},
   "source": [
    "Escreva um programa que converta uma temperatura digitando em graus Celsius e converta para graus Fahrenheit."
   ]
  },
  {
   "cell_type": "markdown",
   "id": "b0360f43",
   "metadata": {},
   "source": [
    "# Exercício \\#015 - Aluguel de Carros"
   ]
  },
  {
   "cell_type": "markdown",
   "id": "c117828d",
   "metadata": {},
   "source": [
    "Escreva um programa que pergunte a quantidade de Km percorridos por um carro alugado e a quantidade de dias pelos quais ele foi alugado. Calcule o preço a pagar, sabendo que o carro custa R$\\$$ 60 por dia e R$\\$$ 0,15 por Km rodado."
   ]
  },
  {
   "cell_type": "markdown",
   "id": "37b17c25",
   "metadata": {},
   "source": [
    "# Exercício \\#016 - Quebrando um número"
   ]
  },
  {
   "cell_type": "markdown",
   "id": "2021df8a",
   "metadata": {},
   "source": [
    "Crie um programa que leia um número Real qualquer pelo teclado e mostre na tela a sua porção Inteira."
   ]
  },
  {
   "cell_type": "markdown",
   "id": "e618fbe5",
   "metadata": {},
   "source": [
    "# Exercício \\#017 - Catetos e Hipotenusa"
   ]
  },
  {
   "cell_type": "markdown",
   "id": "a1fc4ce3",
   "metadata": {},
   "source": [
    "Faça um programa que leia o comprimento do cateto oposto e do cateto adjacente de um triângulo retângulo. Calcule e mostre o comprimento da hipotenusa."
   ]
  },
  {
   "cell_type": "markdown",
   "id": "92052eb3",
   "metadata": {},
   "source": [
    "# Exercício \\#018 - Seno, Cosseno e Tangente"
   ]
  },
  {
   "cell_type": "markdown",
   "id": "c302eb2a",
   "metadata": {},
   "source": [
    " Faça um programa que leia um ângulo qualquer e mostre na tela o valor do seno, cosseno e tangente desse ângulo."
   ]
  },
  {
   "cell_type": "markdown",
   "id": "80f9ced4",
   "metadata": {},
   "source": [
    "# Exercício \\#019 - Sorteando um item na lista"
   ]
  },
  {
   "cell_type": "markdown",
   "id": "1baf7f48",
   "metadata": {},
   "source": [
    "Um professor quer sortear um dos seus quatro alunos para apagar o quadro. Faça um programa que ajude ele, lendo o nome dos alunos e escrevendo na tela o nome do escolhido."
   ]
  },
  {
   "cell_type": "markdown",
   "id": "aa00b9f7",
   "metadata": {},
   "source": [
    "# Exercício \\#020 - Sorteando uma ordem na lista"
   ]
  },
  {
   "cell_type": "markdown",
   "id": "33514eca",
   "metadata": {},
   "source": [
    "O mesmo professor do desafio 019 quer sortear a ordem de apresentação de trabalhos dos alunos. Faça um programa que leia o nome dos quatro alunos e mostre a ordem sorteada."
   ]
  },
  {
   "cell_type": "markdown",
   "id": "8b276197",
   "metadata": {},
   "source": [
    "# Exercício \\#021 - Tocando um MP3"
   ]
  },
  {
   "cell_type": "markdown",
   "id": "9693adc0",
   "metadata": {},
   "source": [
    "Faça um programa em Python que abra e reproduza o áudio de um arquivo MP3."
   ]
  },
  {
   "cell_type": "markdown",
   "id": "1ec11f84",
   "metadata": {},
   "source": [
    "# Exercício \\#022 - Analisador de Textos"
   ]
  },
  {
   "cell_type": "markdown",
   "id": "7622c20e",
   "metadata": {},
   "source": [
    "Crie um programa que leia o nome completo de uma pessoa e mostre: \n",
    "- O nome com todas as letras maiúsculas e minúsculas.\n",
    "- Quantas letras ao todo (sem considerar espaços)."
   ]
  },
  {
   "cell_type": "markdown",
   "id": "0af4596d",
   "metadata": {},
   "source": [
    "# Exercício \\#023 - Separando dígitos de um número"
   ]
  },
  {
   "cell_type": "markdown",
   "id": "e14a2013",
   "metadata": {},
   "source": [
    "Faça um programa que leia um número de 0 a 9999 e mostre na tela cada um dos dígitos separados."
   ]
  },
  {
   "cell_type": "markdown",
   "id": "89b7d448",
   "metadata": {},
   "source": [
    "# Exercício \\#024 - Verificando as primeiras letras letras de um texto"
   ]
  },
  {
   "cell_type": "markdown",
   "id": "1dafda7c",
   "metadata": {},
   "source": [
    " Crie um programa que leia o nome de uma cidade diga se ela começa ou não com o nome \"SANTO\"."
   ]
  },
  {
   "cell_type": "markdown",
   "id": "7080e642",
   "metadata": {},
   "source": [
    "# Exercício \\#025 - Procurando uma string dentro de outra"
   ]
  },
  {
   "cell_type": "markdown",
   "id": "a12a89ef",
   "metadata": {},
   "source": [
    "Crie um programa que leia o nome de uma pessoa e diga se ela tem \"SILVA\" no nome."
   ]
  },
  {
   "cell_type": "markdown",
   "id": "b11774d7",
   "metadata": {},
   "source": [
    "# Exercício \\#026 - Primeira e última ocorrência de uma string"
   ]
  },
  {
   "cell_type": "markdown",
   "id": "03140137",
   "metadata": {},
   "source": [
    "Faça um programa que leia uma frase pelo teclado e mostre quantas vezes aparece a letra \"A\", em que posição ela aparece a primeira vez e em que posição ela aparece a última vez."
   ]
  },
  {
   "cell_type": "markdown",
   "id": "c61dfc84",
   "metadata": {},
   "source": [
    "# Exercício \\#027 - Primeiro e último nome de uma pessoa"
   ]
  },
  {
   "cell_type": "markdown",
   "id": "c16d1b2a",
   "metadata": {},
   "source": [
    "Faça um programa que leia o nome completo de uma pessoa, mostrando em seguida o primeiro e o último nome separadamente."
   ]
  },
  {
   "cell_type": "markdown",
   "id": "4787d0f4",
   "metadata": {},
   "source": [
    "# Exercício \\#028 - Jogo da Advinhação v1.0"
   ]
  },
  {
   "cell_type": "markdown",
   "id": "d85bfc66",
   "metadata": {},
   "source": [
    "Escreva um programa que faça o computador \"pensar\" em um número inteiro entre 0 e 5 e peça para o usuário tentar descobrir qual foi o número escolhido pelo computador. O programa deverá escrever na tela se o usuário venceu ou perdeu."
   ]
  },
  {
   "cell_type": "markdown",
   "id": "474f4fd5",
   "metadata": {},
   "source": [
    "# Exercício \\#029 - Radar eletrônico"
   ]
  },
  {
   "cell_type": "markdown",
   "id": "ecdc6405",
   "metadata": {},
   "source": [
    "Escreva um programa que leia a velocidade de um carro. Se ele ultrapassar 80Km/h, mostre uma mensagem dizendo que ele foi multado. A multa vai custar R$7,00 por cada Km acima do limite."
   ]
  },
  {
   "cell_type": "markdown",
   "id": "62cd510f",
   "metadata": {},
   "source": [
    "# Exercício \\#030 - Par ou Ímpar?"
   ]
  },
  {
   "cell_type": "markdown",
   "id": "934c1f84",
   "metadata": {},
   "source": [
    "Crie um programa que leia um número inteiro e mostre na tela se ele é PAR ou ÍMPAR."
   ]
  },
  {
   "cell_type": "markdown",
   "id": "5d2a2483",
   "metadata": {},
   "source": [
    "# Exercício \\#031 - Custo da Viagem"
   ]
  },
  {
   "cell_type": "markdown",
   "id": "3752367b",
   "metadata": {},
   "source": [
    "Desenvolva um programa que pergunte a distância de uma viagem em Km. Calcule o preço da passagem, cobrando R$0,50 por Km para viagens de até 200Km e R$0,45 parta viagens mais longas."
   ]
  },
  {
   "cell_type": "markdown",
   "id": "4fd89dde",
   "metadata": {},
   "source": [
    "# Exercício \\#032 - Ano Bissexto"
   ]
  },
  {
   "cell_type": "markdown",
   "id": "1efb2879",
   "metadata": {},
   "source": [
    "Faça um programa que leia um ano qualquer e mostre se ele é bissexto."
   ]
  },
  {
   "cell_type": "markdown",
   "id": "ecee9312",
   "metadata": {},
   "source": [
    "# Exercício \\#033 - Maior e menor valores"
   ]
  },
  {
   "cell_type": "markdown",
   "id": "73cfe00b",
   "metadata": {},
   "source": [
    "Faça um programa que leia três números e mostre qual é o maior e qual é o menor."
   ]
  },
  {
   "cell_type": "markdown",
   "id": "2acbf9b9",
   "metadata": {},
   "source": [
    "# Exercício \\#034 - Aumentos múltiplos"
   ]
  },
  {
   "cell_type": "markdown",
   "id": "9b60c006",
   "metadata": {},
   "source": [
    "Escreva um programa que pergunte o salário de um funcionário e calcule o valor do seu aumento. Para salários superiores a R$1250,00, calcule um aumento de 10\\%. Para os inferiores ou iguais, o aumento é de 15\\%."
   ]
  },
  {
   "cell_type": "markdown",
   "id": "4ad56d9d",
   "metadata": {},
   "source": [
    "# Exercício \\#035 - Analisando Triângulos v1.0"
   ]
  },
  {
   "cell_type": "markdown",
   "id": "4af04ed9",
   "metadata": {},
   "source": [
    "Desenvolva um programa que leia o comprimento de três retas e diga ao usuário se elas podem ou não formar um triângulo."
   ]
  }
 ],
 "metadata": {
  "kernelspec": {
   "display_name": "Python 3 (ipykernel)",
   "language": "python",
   "name": "python3"
  },
  "language_info": {
   "codemirror_mode": {
    "name": "ipython",
    "version": 3
   },
   "file_extension": ".py",
   "mimetype": "text/x-python",
   "name": "python",
   "nbconvert_exporter": "python",
   "pygments_lexer": "ipython3",
   "version": "3.9.12"
  }
 },
 "nbformat": 4,
 "nbformat_minor": 5
}
